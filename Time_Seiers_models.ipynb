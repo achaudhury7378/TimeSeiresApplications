{
  "nbformat": 4,
  "nbformat_minor": 0,
  "metadata": {
    "colab": {
      "name": "Time Seiers models.ipynb",
      "provenance": [],
      "collapsed_sections": [],
      "authorship_tag": "ABX9TyPGIas+AwzEG6/q8lQ875gS",
      "include_colab_link": true
    },
    "kernelspec": {
      "name": "python3",
      "display_name": "Python 3"
    }
  },
  "cells": [
    {
      "cell_type": "markdown",
      "metadata": {
        "id": "view-in-github",
        "colab_type": "text"
      },
      "source": [
        "<a href=\"https://colab.research.google.com/github/achaudhury7378/TimeSeiresApplications/blob/main/Time_Seiers_models.ipynb\" target=\"_parent\"><img src=\"https://colab.research.google.com/assets/colab-badge.svg\" alt=\"Open In Colab\"/></a>"
      ]
    },
    {
      "cell_type": "code",
      "metadata": {
        "id": "lYOpaeMPTZGp"
      },
      "source": [
        "import pandas as pd\n",
        "from random import seed\n",
        "from random import random\n",
        "from matplotlib import pyplot"
      ],
      "execution_count": 3,
      "outputs": []
    },
    {
      "cell_type": "markdown",
      "metadata": {
        "id": "dn45Pbd2TNGC"
      },
      "source": [
        "#**Data Import**"
      ]
    },
    {
      "cell_type": "code",
      "metadata": {
        "id": "et1ELR6yTKB7"
      },
      "source": [
        "df = pd.read_csv('https://raw.githubusercontent.com/srivatsan88/YouTubeLI/master/dataset/nyc_energy_consumption.csv')"
      ],
      "execution_count": null,
      "outputs": []
    },
    {
      "cell_type": "code",
      "metadata": {
        "id": "M4zsjiemTK3C"
      },
      "source": [
        "df['timeStamp']=pd.to_datetime(df['timeStamp'])\n",
        "n_df=df.set_index('timeStamp')"
      ],
      "execution_count": null,
      "outputs": []
    },
    {
      "cell_type": "markdown",
      "metadata": {
        "id": "iAeHLYFlur1y"
      },
      "source": [
        "#**Random Walk**"
      ]
    },
    {
      "cell_type": "code",
      "metadata": {
        "id": "twT99IDGulhz"
      },
      "source": [
        "# we have \n",
        "seed(1)\n",
        "random_walk = list()\n",
        "random_walk.append(-1 if random() < 0.5 else 1)\n",
        "for i in range(1, 1000):\n",
        "\tmovement = -1 if random() < 0.5 else 1\n",
        "\tvalue = random_walk[i-1] + movement\n",
        "\trandom_walk.append(value)\n",
        "pyplot.plot(random_walk)\n",
        "pyplot.show()"
      ],
      "execution_count": null,
      "outputs": []
    }
  ]
}